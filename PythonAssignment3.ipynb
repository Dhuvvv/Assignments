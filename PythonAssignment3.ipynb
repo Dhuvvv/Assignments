{
 "cells": [
  {
   "cell_type": "markdown",
   "metadata": {},
   "source": [
    "#### 1.1  Write a Python Program to implement your own myreduce() function which works exactly like Python's built-in function reduce()"
   ]
  },
  {
   "cell_type": "markdown",
   "metadata": {},
   "source": [
    "#### Solution:"
   ]
  },
  {
   "cell_type": "code",
   "execution_count": 1,
   "metadata": {},
   "outputs": [
    {
     "name": "stdout",
     "output_type": "stream",
     "text": [
      "Input: \n",
      "Enter the number : 35\n",
      "\n",
      "Output:\n",
      "List of numbers passed are :  [1, 2, 3, 4, 5, 6, 7, 8, 9, 10, 11, 12, 13, 14, 15, 16, 17, 18, 19, 20, 21, 22, 23, 24, 25, 26, 27, 28, 29, 30, 31, 32, 33, 34, 35]\n",
      "The multiplication of all the numbers in the given range is :  10333147966386144929666651337523200000000\n"
     ]
    }
   ],
   "source": [
    "## Calling and running the inbuilt function reduce() before creating the function to match the workflow.\n",
    "## Here I will test the multiplication of the numbers passed with the reduce() function.\n",
    "\n",
    "print(\"Input: \")\n",
    "number=int(input(\"Enter the number : \"))\n",
    "\n",
    "num_list= list(range(1,(number+1)))\n",
    "\n",
    "# Import reduce function \n",
    "from functools import reduce\n",
    "num_multiple = reduce((lambda x, y: x * y), num_list)\n",
    "\n",
    "#Output\n",
    "print('')\n",
    "print(\"Output:\")\n",
    "print(\"List of numbers passed are : \",num_list)\n",
    "print(\"The multiplication of all the numbers in the given range is : \",num_multiple)"
   ]
  },
  {
   "cell_type": "code",
   "execution_count": 2,
   "metadata": {},
   "outputs": [
    {
     "name": "stdout",
     "output_type": "stream",
     "text": [
      "Input: \n",
      "Enter the number : 35\n",
      "\n",
      "Output: \n",
      "List of numbers passed are :  [1, 2, 3, 4, 5, 6, 7, 8, 9, 10, 11, 12, 13, 14, 15, 16, 17, 18, 19, 20, 21, 22, 23, 24, 25, 26, 27, 28, 29, 30, 31, 32, 33, 34, 35]\n",
      "The multiplication of all the numbers in the given range is :  10333147966386144929666651337523200000000\n"
     ]
    }
   ],
   "source": [
    "## Defining the function to follow multiplication with reference to myreduce function.\n",
    "\n",
    "def myreduce(number):\n",
    "    ## This function will return multiplication of the n natural numbers passed.\n",
    "    \n",
    "    number_list = list(range(1,number+1))\n",
    "    number_multiple=1\n",
    "    \n",
    "    for i in number_list:\n",
    "        number_multiple = number_multiple*i\n",
    "        \n",
    "    return number_list,number_multiple\n",
    "\n",
    "## Initialising the input from the user.\n",
    "print(\"Input: \")\n",
    "number = int(input('Enter the number : '))\n",
    "\n",
    "## Calling or executing the function.\n",
    "number=myreduce(number)\n",
    "\n",
    "## Printing the output with the list of numbers passed via function.\n",
    "print('')\n",
    "print(\"Output: \")\n",
    "print(\"List of numbers passed are : \", number[0])\n",
    "print(\"The multiplication of all the numbers in the given range is : \", number[1])"
   ]
  },
  {
   "cell_type": "markdown",
   "metadata": {},
   "source": [
    "#### 1.2 Write a Python program to implement your own myfilter() function which works exactly like Python's built-in function filter()"
   ]
  },
  {
   "cell_type": "markdown",
   "metadata": {},
   "source": [
    "#### Solution: "
   ]
  },
  {
   "cell_type": "code",
   "execution_count": 3,
   "metadata": {},
   "outputs": [
    {
     "name": "stdout",
     "output_type": "stream",
     "text": [
      "Input:\n",
      "Enter the number: 80\n",
      "\n",
      "\n",
      "Output: \n",
      "List of numbers passed:  [1, 2, 3, 4, 5, 6, 7, 8, 9, 10, 11, 12, 13, 14, 15, 16, 17, 18, 19, 20, 21, 22, 23, 24, 25, 26, 27, 28, 29, 30, 31, 32, 33, 34, 35, 36, 37, 38, 39, 40, 41, 42, 43, 44, 45, 46, 47, 48, 49, 50, 51, 52, 53, 54, 55, 56, 57, 58, 59, 60, 61, 62, 63, 64, 65, 66, 67, 68, 69, 70, 71, 72, 73, 74, 75, 76, 77, 78, 79, 80]\n",
      "\n",
      "The even numbers greater and 50 and multiple of 3 are:  [54, 60, 66, 72, 78]\n",
      "The even numbers smaller and 50 and multiple of 3 are:  [6, 12, 18, 24, 30, 36, 42, 48]\n",
      "The odd numbers greater and 50 and multiple of 3 are:  [51, 57, 63, 69, 75]\n",
      "The odd numbers smaller and 50 and multiple of 3 are:  [3, 9, 15, 21, 27, 33, 39, 45]\n"
     ]
    }
   ],
   "source": [
    "# Filter the even and odd number which are greater than or less than 50 and also multiple of 3\n",
    "## Calling and running the inbuilt function filter() before creating the function to match the workflow.\n",
    "\n",
    "print(\"Input:\")\n",
    "input_num =int(input(\"Enter the number: \"))\n",
    "\n",
    "num_list1=list(range(1,input_num+1))\n",
    "\n",
    "num_even_greater = list(filter(lambda x: x%3==0, list(filter(lambda x: x%2==0, list(filter(lambda x: x>50,num_list1))))))\n",
    "num_even_smaller = list(filter(lambda x: x%3==0, list(filter(lambda x: x%2==0, list(filter(lambda x: x<50,num_list1))))))\n",
    "num_odd_greater = list(filter(lambda x: x%3==0, list(filter(lambda x: x%2!=0, list(filter(lambda x: x>50,num_list1))))))\n",
    "num_odd_smaller = list(filter(lambda x: x%3==0, list(filter(lambda x: x%2!=0, list(filter(lambda x: x<50,num_list1))))))\n",
    "\n",
    "print('')\n",
    "print('')\n",
    "print('Output: ')\n",
    "print('List of numbers passed: ', num_list1)\n",
    "print('')\n",
    "\n",
    "print('The even numbers greater and 50 and multiple of 3 are: ', num_even_greater)\n",
    "print('The even numbers smaller and 50 and multiple of 3 are: ', num_even_smaller)\n",
    "print('The odd numbers greater and 50 and multiple of 3 are: ', num_odd_greater)\n",
    "print('The odd numbers smaller and 50 and multiple of 3 are: ', num_odd_smaller)"
   ]
  },
  {
   "cell_type": "code",
   "execution_count": 7,
   "metadata": {},
   "outputs": [
    {
     "name": "stdout",
     "output_type": "stream",
     "text": [
      "Input: \n",
      "Enter the number: 80\n",
      "\n",
      "\n",
      "Output: \n",
      "List of numbers passed:  [1, 2, 3, 4, 5, 6, 7, 8, 9, 10, 11, 12, 13, 14, 15, 16, 17, 18, 19, 20, 21, 22, 23, 24, 25, 26, 27, 28, 29, 30, 31, 32, 33, 34, 35, 36, 37, 38, 39, 40, 41, 42, 43, 44, 45, 46, 47, 48, 49, 50, 51, 52, 53, 54, 55, 56, 57, 58, 59, 60, 61, 62, 63, 64, 65, 66, 67, 68, 69, 70, 71, 72, 73, 74, 75, 76, 77, 78, 79, 80]\n",
      "\n",
      "The even numbers greater and 50 and multiple of 3 are:  [54, 60, 66, 72, 78]\n",
      "The even numbers smaller and 50 and multiple of 3 are:  [6, 12, 18, 24, 30, 36, 42, 48]\n",
      "The odd numbers greater and 50 and multiple of 3 are:  [51, 57, 63, 69, 75]\n",
      "The odd numbers smaller and 50 and multiple of 3 are:  [3, 9, 15, 21, 27, 33, 39, 45]\n"
     ]
    }
   ],
   "source": [
    "# Filter the even and odd number which are greater than or less than 50 and also multiple of 3\n",
    "## Creating the function myfilter() which will work same as above code.\n",
    "\n",
    "def myfilter(number):\n",
    "    ## This function will return even and odd number which are greater than or less than 50 and also multiple of 3.\n",
    "    \n",
    "    number_list = list(range(1,number+1))\n",
    "    \n",
    "    number_even_greater = []\n",
    "    number_even_smaller = []\n",
    "    number_odd_greater = []\n",
    "    number_odd_smaller = []\n",
    "    \n",
    "    for i in number_list:\n",
    "        if (i%3==0):\n",
    "            if (i%2==0):\n",
    "                if (i>50):\n",
    "                    number_even_greater.append(i)\n",
    "                else:\n",
    "                    number_even_smaller.append(i)\n",
    "            else:\n",
    "                if (i>50):\n",
    "                    number_odd_greater.append(i)\n",
    "                else:\n",
    "                    number_odd_smaller.append(i)\n",
    "                    \n",
    "    return number_list, number_even_greater, number_even_smaller, number_odd_greater, number_odd_smaller\n",
    "\n",
    "## Initializing the input\n",
    "\n",
    "print('Input: ')\n",
    "input_value = int(input(\"Enter the number: \"))\n",
    "\n",
    "## Calling the function myfilter().\n",
    "\n",
    "input_value = myfilter(input_value)\n",
    "\n",
    "## Printing the output with the list of numbers passed via function.\n",
    "\n",
    "print('')\n",
    "print('')\n",
    "print('Output: ')\n",
    "print('List of numbers passed: ', input_value[0])\n",
    "print('')\n",
    "\n",
    "print('The even numbers greater and 50 and multiple of 3 are: ', input_value[1])\n",
    "print('The even numbers smaller and 50 and multiple of 3 are: ', input_value[2])\n",
    "print('The odd numbers greater and 50 and multiple of 3 are: ', input_value[3])\n",
    "print('The odd numbers smaller and 50 and multiple of 3 are: ', input_value[4])\n",
    "\n",
    "        "
   ]
  },
  {
   "cell_type": "markdown",
   "metadata": {},
   "source": [
    "#### 2. Implement List comprehensions to produce the following lists. "
   ]
  },
  {
   "cell_type": "markdown",
   "metadata": {},
   "source": [
    "Write List comprehensions to produce the following Lists\n",
    "\n",
    "['x', 'xx', 'xxx', 'xxxx', 'y', 'yy', 'yyy', 'yyyy', 'z', 'zz', 'zzz', 'zzzz']\n",
    "\n",
    "['x', 'y', 'z', 'xx', 'yy', 'zz', 'xxx', 'yyy', 'zzz', 'xxxx', 'yyyy', 'zzzz']\n",
    "\n",
    "[[2], [3], [4], [3], [4], [5], [4], [5], [6]] [[2, 3, 4, 5], [3, 4, 5, 6],\n",
    "\n",
    "[4, 5, 6, 7], [5, 6, 7, 8]]\n",
    "\n",
    "[(1, 1), (2, 1), (3, 1), (1, 2), (2, 2), (3, 2), (1, 3), (2, 3), (3, 3)]\n"
   ]
  },
  {
   "cell_type": "markdown",
   "metadata": {},
   "source": [
    "#### Solution: "
   ]
  },
  {
   "cell_type": "code",
   "execution_count": 5,
   "metadata": {},
   "outputs": [
    {
     "name": "stdout",
     "output_type": "stream",
     "text": [
      "['x', 'xx', 'xxx', 'xxxx', 'y', 'yy', 'yyy', 'yyyy', 'z', 'zz', 'zzz', 'zzzz']\n",
      "['x', 'y', 'z', 'xx', 'yy', 'zz', 'xxx', 'yyy', 'zzz', 'xxxx', 'yyyy', 'zzzz']\n",
      "[[2], [3], [4], [3], [4], [5], [4], [5], [6]]\n",
      "[[2, 3, 4, 5], [3, 4, 5, 6], [4, 5, 6, 7], [5, 6, 7, 8]]\n",
      "[(1, 1), (2, 1), (3, 1), (1, 2), (2, 2), (3, 2), (1, 3), (2, 3), (3, 3)]\n"
     ]
    }
   ],
   "source": [
    "## Implementation of the first list to be produced.\n",
    "\n",
    "list1 = ['x','y','z']\n",
    "first = [i*j for i in list1 for j in range (1,5)]\n",
    "print(first)\n",
    "\n",
    "## Implementation of the second list to be produced.\n",
    "## implementating the solution taking into account list1 which is already defined.\n",
    "\n",
    "second = [i*j for i in range(1,5) for j in list1]\n",
    "print(second)\n",
    "\n",
    "## Implementation of the third list to be produced.\n",
    "\n",
    "list2 = [2,3,4]\n",
    "third = [[i+j] for i in list2 for j in range(0,3)] \n",
    "print(third) \n",
    "\n",
    "## Implementation of the forth list to be produced.\n",
    "\n",
    "list3 = [2,3,4,5]\n",
    "forth = [[i+j for i in list3] for j in range(0,4)]\n",
    "print(forth)\n",
    "\n",
    "## Implementation of the fifth list to be produced.\n",
    "\n",
    "list4 = [1,2,3]\n",
    "fifth = [(j,i) for i in list4 for j in list4]\n",
    "print(fifth)"
   ]
  },
  {
   "cell_type": "code",
   "execution_count": null,
   "metadata": {},
   "outputs": [],
   "source": []
  }
 ],
 "metadata": {
  "kernelspec": {
   "display_name": "Python 3",
   "language": "python",
   "name": "python3"
  },
  "language_info": {
   "codemirror_mode": {
    "name": "ipython",
    "version": 3
   },
   "file_extension": ".py",
   "mimetype": "text/x-python",
   "name": "python",
   "nbconvert_exporter": "python",
   "pygments_lexer": "ipython3",
   "version": "3.8.5"
  }
 },
 "nbformat": 4,
 "nbformat_minor": 4
}
